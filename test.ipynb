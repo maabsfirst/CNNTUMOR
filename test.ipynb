{
 "cells": [
  {
   "cell_type": "code",
   "execution_count": 13,
   "metadata": {},
   "outputs": [
    {
     "name": "stderr",
     "output_type": "stream",
     "text": [
      "WARNING:absl:Compiled the loaded model, but the compiled metrics have yet to be built. `model.compile_metrics` will be empty until you train or evaluate the model.\n"
     ]
    },
    {
     "name": "stdout",
     "output_type": "stream",
     "text": [
      "WARNING:tensorflow:5 out of the last 5 calls to <function TensorFlowTrainer.make_predict_function.<locals>.one_step_on_data_distributed at 0x00000262D990EA20> triggered tf.function retracing. Tracing is expensive and the excessive number of tracings could be due to (1) creating @tf.function repeatedly in a loop, (2) passing tensors with different shapes, (3) passing Python objects instead of tensors. For (1), please define your @tf.function outside of the loop. For (2), @tf.function has reduce_retracing=True option that can avoid unnecessary retracing. For (3), please refer to https://www.tensorflow.org/guide/function#controlling_retracing and https://www.tensorflow.org/api_docs/python/tf/function for  more details.\n"
     ]
    },
    {
     "name": "stderr",
     "output_type": "stream",
     "text": [
      "WARNING:tensorflow:5 out of the last 5 calls to <function TensorFlowTrainer.make_predict_function.<locals>.one_step_on_data_distributed at 0x00000262D990EA20> triggered tf.function retracing. Tracing is expensive and the excessive number of tracings could be due to (1) creating @tf.function repeatedly in a loop, (2) passing tensors with different shapes, (3) passing Python objects instead of tensors. For (1), please define your @tf.function outside of the loop. For (2), @tf.function has reduce_retracing=True option that can avoid unnecessary retracing. For (3), please refer to https://www.tensorflow.org/guide/function#controlling_retracing and https://www.tensorflow.org/api_docs/python/tf/function for  more details.\n"
     ]
    },
    {
     "name": "stdout",
     "output_type": "stream",
     "text": [
      "\u001b[1m1/1\u001b[0m \u001b[32m━━━━━━━━━━━━━━━━━━━━\u001b[0m\u001b[37m\u001b[0m \u001b[1m0s\u001b[0m 174ms/step\n",
      "[1]\n"
     ]
    }
   ],
   "source": [
    "import cv2\n",
    "from keras.models import load_model\n",
    "from PIL import Image\n",
    "import numpy as np\n",
    "\n",
    "# Define the path to the model\n",
    "model_path = 'C:/Users/MAAB/Desktop/CODES/2D/BrainTumor10EpochsCategorical.h5'\n",
    "\n",
    "# Load the model\n",
    "model = load_model(model_path)\n",
    "\n",
    "# Load and preprocess the image\n",
    "image_path = 'C:/Users/MAAB/Downloads/New folder (3)/pred/pred13.jpg'\n",
    "image = cv2.imread(image_path)\n",
    "\n",
    "# Check if the image was loaded correctly\n",
    "if image is None:\n",
    "    raise FileNotFoundError(f\"Image not found at path: {image_path}\")\n",
    "\n",
    "img = Image.fromarray(image)\n",
    "img = img.resize((64, 64))\n",
    "img = np.array(img)\n",
    "\n",
    "# Prepare the image for prediction\n",
    "input_img = np.expand_dims(img, axis=0)\n",
    "\n",
    "# Make a prediction\n",
    "prediction = model.predict(input_img)\n",
    "\n",
    "# Get the predicted class\n",
    "predicted_class = np.argmax(prediction, axis=1)\n",
    "print(predicted_class)\n"
   ]
  },
  {
   "cell_type": "markdown",
   "metadata": {},
   "source": [
    "# Brain Tumor Classification: Model Prediction\n",
    "\n",
    "This script demonstrates how to load a pre-trained Convolutional Neural Network (CNN) model and use it to make predictions on a new image. The model is trained to classify images into \"no tumor\" and \"yes tumor\" categories.\n",
    "\n",
    "## Libraries Used\n",
    "\n",
    "- `cv2` (OpenCV): For image processing.\n",
    "- `keras`: For loading the pre-trained model.\n",
    "- `PIL` (Pillow): For image handling.\n",
    "- `numpy`: For numerical operations.\n",
    "\n",
    "## Steps\n",
    "\n",
    "1. **Define Model Path:**\n",
    "   - `model_path`: Path to the pre-trained model file (`BrainTumor10EpochsCategorical.h5`).\n",
    "\n",
    "2. **Load the Model:**\n",
    "   - Use `load_model` from Keras to load the pre-trained model from the specified path.\n",
    "\n",
    "3. **Load and Preprocess the Image:**\n",
    "   - `image_path`: Path to the image to be predicted (`pred13.jpg`).\n",
    "   - Load the image using `cv2.imread`.\n",
    "   - Check if the image was loaded correctly. Raise an error if the image file is not found.\n",
    "   - Convert the image to RGB format using `PIL`, resize it to `(64, 64)`, and convert it to a NumPy array.\n",
    "\n",
    "4. **Prepare the Image for Prediction:**\n",
    "   - Expand dimensions of the image array to match the input shape expected by the model using `np.expand_dims`.\n",
    "\n",
    "5. **Make a Prediction:**\n",
    "   - Use the `predict` method of the model to get the prediction for the preprocessed image.\n",
    "\n",
    "6. **Get the Predicted Class:**\n",
    "   - Determine the class with the highest probability using `np.argmax` on the prediction array.\n",
    "\n",
    "7. **Print the Predicted Class:**\n",
    "   - Output the predicted class to the console.\n",
    "\n",
    "## Example Output\n",
    "\n",
    "The script will print the predicted class for the given image. The output will be either `0` or `1`, corresponding to \"no tumor\" and \"yes tumor,\" respectively.\n"
   ]
  },
  {
   "cell_type": "code",
   "execution_count": null,
   "metadata": {},
   "outputs": [],
   "source": []
  }
 ],
 "metadata": {
  "kernelspec": {
   "display_name": "Python 3",
   "language": "python",
   "name": "python3"
  },
  "language_info": {
   "codemirror_mode": {
    "name": "ipython",
    "version": 3
   },
   "file_extension": ".py",
   "mimetype": "text/x-python",
   "name": "python",
   "nbconvert_exporter": "python",
   "pygments_lexer": "ipython3",
   "version": "3.12.4"
  }
 },
 "nbformat": 4,
 "nbformat_minor": 2
}
